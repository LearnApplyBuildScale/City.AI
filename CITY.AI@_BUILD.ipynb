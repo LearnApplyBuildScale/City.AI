{
  "nbformat": 4,
  "nbformat_minor": 0,
  "metadata": {
    "colab": {
      "provenance": []
    },
    "kernelspec": {
      "name": "python3",
      "display_name": "Python 3"
    },
    "language_info": {
      "name": "python"
    }
  },
  "cells": [
    {
      "cell_type": "markdown",
      "source": [
        "#<font color='gold'> **B1: ANALYSIS**\n",
        "</font>"
      ],
      "metadata": {
        "id": "LjFYtBkEnjle"
      }
    },
    {
      "cell_type": "markdown",
      "source": [
        "###<font color='Green'> **LINK GOOGLE DRIVE**\n",
        "</font>"
      ],
      "metadata": {
        "id": "B1zPK_W3qRvC"
      }
    },
    {
      "cell_type": "code",
      "source": [
        "from google.colab import drive\n",
        "\n",
        "drive.mount('/content/drive')"
      ],
      "metadata": {
        "id": "m0Qqo-aErdZw"
      },
      "execution_count": null,
      "outputs": []
    },
    {
      "cell_type": "code",
      "source": [
        "%pip install -U leafmap\n",
        "import leafmap"
      ],
      "metadata": {
        "id": "pN2j_-76A1sQ"
      },
      "execution_count": null,
      "outputs": []
    },
    {
      "cell_type": "markdown",
      "source": [
        "##<font color='Green'>  **[ Visualize Change ]**\n",
        "</font>"
      ],
      "metadata": {
        "id": "ZULHM0zbqtYP"
      }
    },
    {
      "cell_type": "markdown",
      "source": [
        "<font color='orange'>  <<<<<<<<<<<<<< **UPDATE DRIVE LINK** >>>>>>>>>>>>\n",
        "\n",
        "<font color='orange'>  <<<<<<<<<<<<<< **UPDATE YEARS** >>>>>>>>>>>>"
      ],
      "metadata": {
        "id": "n3fWtX3Hqyv-"
      }
    },
    {
      "cell_type": "code",
      "source": [
        "# Assuming label_image1 and label_image2 are the paths to your image files\n",
        "img2023 = \"/content/drive/My Drive/SI/J2023.png\"\n",
        "img2009 = \"/content/drive/My Drive/SI/J2009.png\"\n",
        "\n",
        "leafmap.image_comparison(\n",
        "    img2023,\n",
        "    img2009,\n",
        "    label1=\"Satellite Image\",\n",
        "    label2=\"Image Segmentation\",\n",
        "    starting_position=50,\n",
        "    out_html=\"image_comparison.html\",\n",
        ")\n"
      ],
      "metadata": {
        "id": "rCkCrQN4D_7F"
      },
      "execution_count": null,
      "outputs": []
    },
    {
      "cell_type": "code",
      "source": [
        "!pip install plotly pillow numpy\n",
        "!pip install plotly\n",
        "!pip install rasterio\n",
        "import rasterio"
      ],
      "metadata": {
        "id": "vAge5Q85GdWH"
      },
      "execution_count": null,
      "outputs": []
    },
    {
      "cell_type": "markdown",
      "source": [
        "##<font color='Green'>  **[** Load Satellite Images **]**\n",
        "</font>"
      ],
      "metadata": {
        "id": "KChI8eqYrDF9"
      }
    },
    {
      "cell_type": "code",
      "execution_count": null,
      "metadata": {
        "id": "THDmEOftAHvi"
      },
      "outputs": [],
      "source": [
        "file_path1 = '/content/drive/My Drive/SI/2009.tiff'\n",
        "file_path2 = '/content/drive/My Drive/SI/2023.tiff'\n"
      ]
    },
    {
      "cell_type": "markdown",
      "source": [
        "##<font color='Green'>  **[ Quantification ]**\n",
        "</font>"
      ],
      "metadata": {
        "id": "xjDwB-9mrG0M"
      }
    },
    {
      "cell_type": "markdown",
      "source": [
        "###<font color='Green'>  **[** Area Calulation **]**\n",
        "</font>"
      ],
      "metadata": {
        "id": "xMK1zdJ0sYwF"
      }
    },
    {
      "cell_type": "code",
      "execution_count": null,
      "metadata": {
        "colab": {
          "base_uri": "https://localhost:8080/"
        },
        "id": "okTNVRAR3YJk",
        "outputId": "4b133937-a756-4192-9089-9f9aef9d74f3"
      },
      "outputs": [
        {
          "output_type": "stream",
          "name": "stdout",
          "text": [
            "Length: 3355.33 meters\n",
            "Breadth: 2213.71 meters\n"
          ]
        }
      ],
      "source": [
        "# Open the raster file\n",
        "with rasterio.open(file_path1) as src:\n",
        "    # Get the geospatial transform to convert pixel coordinates to CRS coordinates\n",
        "    transform = src.transform\n",
        "\n",
        "    # Get the width and height of the raster in pixels\n",
        "    width = src.width\n",
        "    height = src.height\n",
        "\n",
        "    # Calculate the coordinates of the four corners of the raster\n",
        "    top_left = transform * (0, 0)\n",
        "    top_right = transform * (width, 0)\n",
        "    bottom_left = transform * (0, height)\n",
        "    bottom_right = transform * (width, height)\n",
        "\n",
        "    # Calculate the length and breadth in the CRS coordinates\n",
        "    length = abs(top_right[0] - top_left[0])\n",
        "    breadth = abs(top_left[1] - bottom_left[1])\n",
        "\n",
        "    # Multiply by 111319 EPSG Degree Convertion to convert to meters\n",
        "    length_meters = length * 111319\n",
        "    breadth_meters = breadth * 111319\n",
        "\n",
        "print(f\"Length: {length_meters:.2f} meters\")\n",
        "print(f\"Breadth: {breadth_meters:.2f} meters\")\n"
      ]
    },
    {
      "cell_type": "code",
      "execution_count": null,
      "metadata": {
        "colab": {
          "base_uri": "https://localhost:8080/"
        },
        "id": "yzQjm_Ch7oTf",
        "outputId": "cf01afb6-7574-4496-82f1-fe101076a5cc"
      },
      "outputs": [
        {
          "output_type": "stream",
          "name": "stdout",
          "text": [
            "Area: 7427740.07 m.Sq\n",
            "Area: 7.43 KM.Sq\n"
          ]
        }
      ],
      "source": [
        "# Calculate the area in square meters\n",
        "area_meters = length_meters * breadth_meters\n",
        "\n",
        "print(f\"Area: {area_meters:.2f} m.Sq\")\n",
        "\n",
        "# Convert square meters to square kilometers (1 km^2 = 1,000,000 m^2)\n",
        "area_kilometers = area_meters / 1_000_000\n",
        "\n",
        "print(f\"Area: {area_kilometers:.2f} KM.Sq\")"
      ]
    },
    {
      "cell_type": "markdown",
      "source": [
        "###<font color='Green'>  **[** Percentage Cover & Areas For Satellite Image 1 **]**\n",
        "</font>"
      ],
      "metadata": {
        "id": "0erFpvwprgK-"
      }
    },
    {
      "cell_type": "markdown",
      "source": [
        "<font color='orange'>  <<<<<<<<<<<<<< **UPDATE AREA NAMES** >>>>>>>>>>>>"
      ],
      "metadata": {
        "id": "np0gtWjYtkxv"
      }
    },
    {
      "cell_type": "code",
      "source": [
        "import rasterio\n",
        "import numpy as np\n",
        "\n",
        "# Open the raster file\n",
        "with rasterio.open(file_path1) as src:\n",
        "    # Read the raster band\n",
        "    band = src.read(1)\n",
        "\n",
        "    # Calculate unique values and their counts\n",
        "    unique_values, counts = np.unique(band, return_counts=True)\n",
        "\n",
        "    # Calculate total number of pixels\n",
        "    total_pixels = np.sum(counts)\n",
        "\n",
        "    # Map numerical values to colors\n",
        "    color_mapping = {0: \"Water\", 1: \"Arid_Land\", 2: \"GreenCover\", 3: \"Infrastructure\"}  # Add more as needed\n",
        "\n",
        "    # Calculate percentages\n",
        "    percentages1 = counts / total_pixels * 100\n",
        "\n",
        "    # Display results with colors\n",
        "    for value, percentage in zip(unique_values, percentages1):\n",
        "        landscape = color_mapping.get(value, \"Unknown Color\")\n",
        "        print(f\"{landscape}: {percentage:.2f}%\")\n",
        "\n"
      ],
      "metadata": {
        "colab": {
          "base_uri": "https://localhost:8080/"
        },
        "id": "PDpJKXIMnAFA",
        "outputId": "90656a0d-ccf9-4ef1-843f-4cfd07697219"
      },
      "execution_count": null,
      "outputs": [
        {
          "output_type": "stream",
          "name": "stdout",
          "text": [
            "Water: 59.08%\n",
            "Arid_Land: 13.74%\n",
            "GreenCover: 20.08%\n",
            "Infrastructure: 7.09%\n"
          ]
        }
      ]
    },
    {
      "cell_type": "code",
      "source": [
        "# Display results and calculate area for each unique value\n",
        "for value, percentage in zip(unique_values, percentages1):\n",
        "    landscape = color_mapping.get(value, \"Unknown Color\")\n",
        "    value_area1 = (percentage / 100) * area_kilometers\n",
        "    print(f\"{landscape}: {percentage:.2f}% | {value_area1:.2f} KM.Sq\")\n"
      ],
      "metadata": {
        "colab": {
          "base_uri": "https://localhost:8080/"
        },
        "id": "I4AzjDFCo5sh",
        "outputId": "38ef53c4-e4a1-4093-8417-1546793b668e"
      },
      "execution_count": null,
      "outputs": [
        {
          "output_type": "stream",
          "name": "stdout",
          "text": [
            "Water: 59.08% | 4.39 KM.Sq\n",
            "Arid_Land: 13.74% | 1.02 KM.Sq\n",
            "GreenCover: 20.08% | 1.49 KM.Sq\n",
            "Infrastructure: 7.09% | 0.53 KM.Sq\n"
          ]
        }
      ]
    },
    {
      "cell_type": "markdown",
      "source": [
        "###<font color='Green'>  **[** Percentage Cover & Areas For Satellite Image 2 **]**\n",
        "</font>"
      ],
      "metadata": {
        "id": "O2Fcjwe6sQAj"
      }
    },
    {
      "cell_type": "markdown",
      "source": [
        "<font color='orange'>  <<<<<<<<<<<<<< **UPDATE AREA NAMES** >>>>>>>>>>>>"
      ],
      "metadata": {
        "id": "aP5lbZVOt2_3"
      }
    },
    {
      "cell_type": "code",
      "source": [
        "import rasterio\n",
        "import numpy as np\n",
        "\n",
        "# Open the raster file\n",
        "with rasterio.open(file_path2) as src:\n",
        "    # Read the raster band\n",
        "    band = src.read(1)\n",
        "\n",
        "    # Calculate unique values and their counts\n",
        "    unique_values, counts = np.unique(band, return_counts=True)\n",
        "\n",
        "    # Calculate total number of pixels\n",
        "    total_pixels = np.sum(counts)\n",
        "\n",
        "    # Map numerical values to colors\n",
        "    color_mapping = {0: \"Water\", 1: \"Arid_Land\", 2: \"GreenCover\", 3: \"Infrastructure\"}  # Add more as needed\n",
        "\n",
        "    # Calculate percentages\n",
        "    percentages2 = counts / total_pixels * 100\n",
        "\n",
        "    # Display results with colors\n",
        "    for value, percentage in zip(unique_values, percentages2):\n",
        "        landscape = color_mapping.get(value, \"Unknown Color\")\n",
        "        print(f\"{landscape}: {percentage:.2f}%\")"
      ],
      "metadata": {
        "colab": {
          "base_uri": "https://localhost:8080/"
        },
        "id": "7Wo5lXC1sVdK",
        "outputId": "429b3eb5-c131-4281-a8ee-36abcd28bbea"
      },
      "execution_count": null,
      "outputs": [
        {
          "output_type": "stream",
          "name": "stdout",
          "text": [
            "Water: 57.43%\n",
            "Arid_Land: 16.95%\n",
            "GreenCover: 19.80%\n",
            "Infrastructure: 5.82%\n"
          ]
        }
      ]
    },
    {
      "cell_type": "code",
      "source": [
        "# Display results and calculate area for each unique value\n",
        "for value, percentage in zip(unique_values, percentages2):\n",
        "    landscape = color_mapping.get(value, \"Unknown Color\")\n",
        "    value_area2 = (percentage / 100) * area_kilometers\n",
        "    print(f\"{landscape}: {percentage:.2f}% | {value_area2:.2f} KM.Sq\")\n"
      ],
      "metadata": {
        "colab": {
          "base_uri": "https://localhost:8080/"
        },
        "id": "PqxDrPussiPR",
        "outputId": "962b9349-afa8-4817-b5a5-325357303178"
      },
      "execution_count": null,
      "outputs": [
        {
          "output_type": "stream",
          "name": "stdout",
          "text": [
            "Water: 57.43% | 4.27 KM.Sq\n",
            "Arid_Land: 16.95% | 1.26 KM.Sq\n",
            "GreenCover: 19.80% | 1.47 KM.Sq\n",
            "Infrastructure: 5.82% | 0.43 KM.Sq\n"
          ]
        }
      ]
    },
    {
      "cell_type": "markdown",
      "source": [
        "#<font color='gold'> **B2: CREATING INFOGRAPHICS**\n",
        "</font>"
      ],
      "metadata": {
        "id": "rM7Blj8Mn1Uf"
      }
    },
    {
      "cell_type": "markdown",
      "source": [
        "##<font color='Green'>  **[** Infographics **]**\n",
        "</font>"
      ],
      "metadata": {
        "id": "ETJiaVAzr9mK"
      }
    },
    {
      "cell_type": "code",
      "source": [
        "!pip install plotly dash\n",
        "!pip install dash dash-html-components dash-core-components plotly"
      ],
      "metadata": {
        "id": "hpJ5q0YtRgIm"
      },
      "execution_count": null,
      "outputs": []
    },
    {
      "cell_type": "markdown",
      "source": [
        "<font color='orange'>  <<<<<<<<<<<<<< **UPDATE AREA COLORS** >>>>>>>>>>>>"
      ],
      "metadata": {
        "id": "VI8l5zvBt5N_"
      }
    },
    {
      "cell_type": "code",
      "source": [
        "import plotly.express as px\n",
        "\n",
        "# Assuming 'unique_values', 'percentages1', and 'color_mapping' are defined\n",
        "data = {'Landscape': [color_mapping.get(value, \"Unknown Color\") for value in unique_values],\n",
        "        'Percentage': percentages1,\n",
        "        'Value_Area': [round((percentage / 100) * area_kilometers, 2) for percentage in percentages1]}\n",
        "\n",
        "# Create a DataFrame\n",
        "df_values = pd.DataFrame(data)\n",
        "\n",
        "# Define colors by name\n",
        "custom_colors = ['Black', 'Blue', 'Green', 'Yellow']  # Replace with your desired color names\n",
        "\n",
        "# Create an interactive bar chart using plotly\n",
        "fig_values = px.bar(df_values, x='Landscape', y='Value_Area', text='Value_Area',\n",
        "                    labels={'Value_Area': 'Area (KM.Sq)'}, color='Landscape',\n",
        "                    title='2009 Landscape Distribution', color_discrete_sequence=custom_colors)\n",
        "\n",
        "# Set layout options for better readability\n",
        "fig_values.update_layout(xaxis_title='Landscapes', yaxis_title='Area (KM.Sq)',\n",
        "                         hovermode='closest', template='plotly_white')\n",
        "\n",
        "# Show the figure\n",
        "fig_values.show()\n"
      ],
      "metadata": {
        "id": "C-EHTeHFEpLW"
      },
      "execution_count": null,
      "outputs": []
    },
    {
      "cell_type": "markdown",
      "source": [
        "<font color='orange'>  <<<<<<<<<<<<<< **UPDATE AREA COLORS** >>>>>>>>>>>>"
      ],
      "metadata": {
        "id": "2xyiSpZ0t_Zf"
      }
    },
    {
      "cell_type": "code",
      "source": [
        "import plotly.express as px\n",
        "\n",
        "# Assuming 'unique_values', 'percentages1', and 'color_mapping' are defined\n",
        "data = {'Landscape': [color_mapping.get(value, \"Unknown Color\") for value in unique_values],\n",
        "        'Percentage': percentages2,\n",
        "        'Value_Area': [round((percentage / 100) * area_kilometers, 2) for percentage in percentages2]}\n",
        "\n",
        "# Create a DataFrame\n",
        "df_values = pd.DataFrame(data)\n",
        "\n",
        "# Define colors by name\n",
        "custom_colors = ['Black', 'Blue', 'Green', 'Yellow']  # Replace with your desired color names\n",
        "\n",
        "# Create an interactive bar chart using plotly\n",
        "fig_values = px.bar(df_values, x='Landscape', y='Value_Area', text='Value_Area',\n",
        "                    labels={'Value_Area': 'Area (KM.Sq)'}, color='Landscape',\n",
        "                    title='2023 Landscape Distribution', color_discrete_sequence=custom_colors)\n",
        "\n",
        "# Set layout options for better readability\n",
        "fig_values.update_layout(xaxis_title='Landscapes', yaxis_title='Area (KM.Sq)',\n",
        "                         hovermode='closest', template='plotly_white')\n",
        "\n",
        "# Show the figure\n",
        "fig_values.show()"
      ],
      "metadata": {
        "id": "dX8EjEh2Fqhi"
      },
      "execution_count": null,
      "outputs": []
    },
    {
      "cell_type": "markdown",
      "source": [
        "#<font color='gold'> **B3: QUANTIFYING CHANGE**\n",
        "</font>"
      ],
      "metadata": {
        "id": "4SMSh2UaoAvh"
      }
    },
    {
      "cell_type": "markdown",
      "source": [
        "##<font color='Green'>  **[ Quantifying Change ]**\n",
        "</font>"
      ],
      "metadata": {
        "id": "8MDCRSvJs3NH"
      }
    },
    {
      "cell_type": "code",
      "source": [
        "import matplotlib.pyplot as plt\n",
        "\n",
        "landscapes = []\n",
        "area_differences = []\n",
        "\n",
        "for value, percentage1, percentage2 in zip(unique_values, percentages1, percentages2):\n",
        "    landscape = color_mapping.get(value, \"Unknown Color\")\n",
        "\n",
        "    # Calculate area for each set of percentages\n",
        "    value_area1 = (percentage1 / 100) * area_kilometers\n",
        "    value_area2 = (percentage2 / 100) * area_kilometers\n",
        "\n",
        "    # Calculate the difference in areas\n",
        "    area_difference = value_area2 - value_area1\n",
        "\n",
        "    landscapes.append(landscape)\n",
        "    area_differences.append(area_difference)\n",
        "\n",
        "\n",
        "    print(f\"{landscape} | {value_area1:.2f} KM.Sq | {value_area2:.2f} KM.Sq | Change: {area_difference:.2f} KM.Sq\")\n"
      ],
      "metadata": {
        "colab": {
          "base_uri": "https://localhost:8080/"
        },
        "id": "WyN-wB0W6CPE",
        "outputId": "e33f7f24-5f46-408d-df25-61d54bafb142"
      },
      "execution_count": null,
      "outputs": [
        {
          "output_type": "stream",
          "name": "stdout",
          "text": [
            "Water | 4.39 KM.Sq | 4.27 KM.Sq | Change: -0.12 KM.Sq\n",
            "Arid_Land | 1.02 KM.Sq | 1.26 KM.Sq | Change: 0.24 KM.Sq\n",
            "GreenCover | 1.49 KM.Sq | 1.47 KM.Sq | Change: -0.02 KM.Sq\n",
            "Infrastructure | 0.53 KM.Sq | 0.43 KM.Sq | Change: -0.09 KM.Sq\n"
          ]
        }
      ]
    },
    {
      "cell_type": "code",
      "source": [
        "!pip install plotly"
      ],
      "metadata": {
        "colab": {
          "base_uri": "https://localhost:8080/"
        },
        "id": "rZQbcELwtKNo",
        "outputId": "615d3d8c-a2d7-46a1-dc9c-556b6a52b30e"
      },
      "execution_count": null,
      "outputs": [
        {
          "output_type": "stream",
          "name": "stdout",
          "text": [
            "Requirement already satisfied: plotly in /usr/local/lib/python3.10/dist-packages (5.15.0)\n",
            "Requirement already satisfied: tenacity>=6.2.0 in /usr/local/lib/python3.10/dist-packages (from plotly) (8.2.3)\n",
            "Requirement already satisfied: packaging in /usr/local/lib/python3.10/dist-packages (from plotly) (23.2)\n"
          ]
        }
      ]
    },
    {
      "cell_type": "markdown",
      "source": [
        "<font color='orange'>  <<<<<<<<<<<<<< **UPDATE AREA COLORS** >>>>>>>>>>>>"
      ],
      "metadata": {
        "id": "D5qUFPCYuBot"
      }
    },
    {
      "cell_type": "code",
      "source": [
        "import pandas as pd\n",
        "import plotly.express as px\n",
        "\n",
        "# Assuming 'landscapes' and 'area_differences' are your data\n",
        "data = {'Landscapes': landscapes, 'Area Difference (KM.Sq)': area_differences}\n",
        "\n",
        "# Round off 'Area Difference (KM.Sq)' values to 2 decimal places\n",
        "data['Area Difference (KM.Sq)'] = [round(value, 2) for value in data['Area Difference (KM.Sq)']]\n",
        "\n",
        "# Define colors by name\n",
        "custom_colors = ['Black', 'Blue', 'Green', 'Yellow']  # Replace with your desired color names\n",
        "\n",
        "# Create a DataFrame\n",
        "df = pd.DataFrame(data)\n",
        "\n",
        "# Create an interactive bar chart using plotly\n",
        "fig = px.bar(df, x='Landscapes', y='Area Difference (KM.Sq)', text='Area Difference (KM.Sq)',\n",
        "             labels={'Area Difference (KM.Sq)': 'Area Difference (KM.Sq)'}, color='Landscapes',\n",
        "             title='Change', color_discrete_sequence=custom_colors)\n",
        "\n",
        "# Set layout options for better readability\n",
        "fig.update_layout(xaxis_title='Landscapes', yaxis_title='Area Difference (KM.Sq)',\n",
        "                  hovermode='closest', template='plotly_white')\n",
        "\n",
        "# Show the figure\n",
        "fig.show()\n"
      ],
      "metadata": {
        "id": "FydHSQzJFgtQ"
      },
      "execution_count": null,
      "outputs": []
    }
  ]
}