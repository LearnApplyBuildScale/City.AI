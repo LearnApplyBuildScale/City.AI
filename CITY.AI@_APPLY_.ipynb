{
  "cells": [
    {
      "cell_type": "markdown",
      "id": "wU6SG_e-lgrD",
      "metadata": {
        "id": "wU6SG_e-lgrD"
      },
      "source": [
        "##<font color='Gold'> **A1: INTRODUCTION TO GOOGLE COLAB & IMAGE SEGMENTATION**\n",
        "</font>"
      ]
    },
    {
      "cell_type": "markdown",
      "id": "YPyKLOLCuMM2",
      "metadata": {
        "id": "YPyKLOLCuMM2"
      },
      "source": [
        "###<font color='Green'> **LINK GOOGLE DRIVE**\n",
        "</font>\n"
      ]
    },
    {
      "cell_type": "code",
      "execution_count": 1,
      "id": "AiiRSAjjTPEp",
      "metadata": {
        "colab": {
          "base_uri": "https://localhost:8080/"
        },
        "id": "AiiRSAjjTPEp",
        "outputId": "81b046ca-920e-4e0a-debe-1e59e63267c8"
      },
      "outputs": [
        {
          "output_type": "stream",
          "name": "stdout",
          "text": [
            "Mounted at /content/drive\n"
          ]
        }
      ],
      "source": [
        "from google.colab import drive\n",
        "\n",
        "drive.mount('/content/drive')"
      ]
    },
    {
      "cell_type": "markdown",
      "id": "WJeQYowzk-U-",
      "metadata": {
        "id": "WJeQYowzk-U-"
      },
      "source": [
        "## <font color='Green'>**SAM : SEGMENT ANYTHING MODEL | FACEBOOK**\n",
        "</font>\n",
        "\n",
        "[SEGMENT ANYTHING MODEL](https://segment-anything.com/)"
      ]
    },
    {
      "cell_type": "markdown",
      "id": "eozEXZLWmMMp",
      "metadata": {
        "id": "eozEXZLWmMMp"
      },
      "source": []
    },
    {
      "cell_type": "markdown",
      "id": "gPk1AJZIkXLB",
      "metadata": {
        "id": "gPk1AJZIkXLB"
      },
      "source": [
        "## <font color='Green'> **[** **LANG SAM MODEL** **]** : Language based segmentation\n",
        "</font>\n",
        "\n",
        "\n",
        "\n"
      ]
    },
    {
      "cell_type": "markdown",
      "id": "VffyIqtupelk",
      "metadata": {
        "id": "VffyIqtupelk"
      },
      "source": [
        "###<font color='Green'> **[** Setup Environment **]**\n",
        "</font>\n",
        "\n"
      ]
    },
    {
      "cell_type": "code",
      "execution_count": null,
      "id": "hnoFwd5ogxf-",
      "metadata": {
        "id": "hnoFwd5ogxf-"
      },
      "outputs": [],
      "source": [
        "%pip install segment-geospatial groundingdino-py leafmap localtileserver"
      ]
    },
    {
      "cell_type": "code",
      "execution_count": 3,
      "id": "zcXwGJB0gniQ",
      "metadata": {
        "id": "zcXwGJB0gniQ"
      },
      "outputs": [],
      "source": [
        "import leafmap\n",
        "from samgeo import tms_to_geotiff\n",
        "from samgeo.text_sam import LangSAM"
      ]
    },
    {
      "cell_type": "code",
      "execution_count": null,
      "id": "OCwLkmQuImrM",
      "metadata": {
        "id": "OCwLkmQuImrM"
      },
      "outputs": [],
      "source": [
        "sam = LangSAM()"
      ]
    },
    {
      "cell_type": "markdown",
      "id": "Ukn3QzhAqmDo",
      "metadata": {
        "id": "Ukn3QzhAqmDo"
      },
      "source": [
        "###<font color='Green'> **[** Import Image **]**\n",
        "</font>\n",
        "\n"
      ]
    },
    {
      "cell_type": "markdown",
      "id": "C2vYe1XH7AE4",
      "metadata": {
        "id": "C2vYe1XH7AE4"
      },
      "source": [
        "<font color='orange'>  <<<<<<<<<<<<<< **UPDATE DRIVE LINK** >>>>>>>>>>>>"
      ]
    },
    {
      "cell_type": "code",
      "execution_count": null,
      "id": "5s5finqfImrL",
      "metadata": {
        "id": "5s5finqfImrL"
      },
      "outputs": [],
      "source": [
        "from PIL import Image\n",
        "import matplotlib.pyplot as plt\n",
        "import numpy as np\n",
        "\n",
        "image = Image.open('/content/drive/My Drive/APPLY_Imagery/2009/5.png')\n",
        "\n",
        "# Display the image\n",
        "plt.imshow(np.array(image))\n",
        "plt.axis('off')  # Turn off axis labels\n",
        "plt.show()"
      ]
    },
    {
      "cell_type": "markdown",
      "id": "v5y9mPJ5qvf6",
      "metadata": {
        "id": "v5y9mPJ5qvf6"
      },
      "source": [
        "###<font color='Green'> **[** Set Language Prompt  **]**\n"
      ]
    },
    {
      "cell_type": "markdown",
      "id": "IYJ2iuU539Xb",
      "metadata": {
        "id": "IYJ2iuU539Xb"
      },
      "source": [
        "<font color='orange'>  <<<<<<<<<<<<<< **CHANGE THE PROMPT TO EXPLORE OPTIONS** >>>>>>>>>>>>\n"
      ]
    },
    {
      "cell_type": "code",
      "execution_count": 6,
      "id": "MXVcdKMbImrN",
      "metadata": {
        "id": "MXVcdKMbImrN"
      },
      "outputs": [],
      "source": [
        "text_prompt = \"building\""
      ]
    },
    {
      "cell_type": "markdown",
      "id": "qH1y26u77kqT",
      "metadata": {
        "id": "qH1y26u77kqT"
      },
      "source": [
        "<font color='orange'>  <<<<<<<<<<<<<< **CHANGE THE THRESHOLD TO EXPLORE OPTIONS** >>>>>>>>>>>>\n"
      ]
    },
    {
      "cell_type": "code",
      "execution_count": 7,
      "id": "dNZZm7YYImrN",
      "metadata": {
        "id": "dNZZm7YYImrN"
      },
      "outputs": [],
      "source": [
        "sam.predict(image, text_prompt, box_threshold=0.24, text_threshold=0.24)"
      ]
    },
    {
      "cell_type": "markdown",
      "id": "er6frt34rA_u",
      "metadata": {
        "id": "er6frt34rA_u"
      },
      "source": [
        "###<font color='Green'> **[** Segmentation **]**\n",
        "</font>\n",
        "\n"
      ]
    },
    {
      "cell_type": "code",
      "execution_count": null,
      "id": "jVofDclSImrN",
      "metadata": {
        "id": "jVofDclSImrN"
      },
      "outputs": [],
      "source": [
        "sam.show_anns(\n",
        "    cmap='Greens',\n",
        "    box_color='red',\n",
        "    title='Automatic Segmentation of Trees',\n",
        "    blend=True,\n",
        ")"
      ]
    },
    {
      "cell_type": "markdown",
      "id": "QDLGCzk-tYBL",
      "metadata": {
        "id": "QDLGCzk-tYBL"
      },
      "source": [
        "# <font color='Green'> **[** **SAM MODEL** **]** : Selection Based Segmentation with K-means Model\n",
        "</font>"
      ]
    },
    {
      "cell_type": "markdown",
      "id": "8umZGkncl56H",
      "metadata": {
        "id": "8umZGkncl56H"
      },
      "source": [
        "#<font color='gold'> **A2: MACHINE LEARNING MODELS**\n",
        "</font>"
      ]
    },
    {
      "cell_type": "markdown",
      "id": "pZvvT_A4OpwV",
      "metadata": {
        "id": "pZvvT_A4OpwV"
      },
      "source": [
        "##<font color='Green'> **[** Setup Environment **]**\n",
        "</font>\n",
        "\n",
        "\n"
      ]
    },
    {
      "cell_type": "markdown",
      "id": "UXsVJW70m31m",
      "metadata": {
        "id": "UXsVJW70m31m"
      },
      "source": []
    },
    {
      "cell_type": "code",
      "execution_count": 1,
      "id": "18ab8c70",
      "metadata": {
        "colab": {
          "base_uri": "https://localhost:8080/",
          "height": 42
        },
        "id": "18ab8c70",
        "outputId": "cbcf09a1-e67d-47ae-dd00-cd9b763dbca0"
      },
      "outputs": [
        {
          "output_type": "display_data",
          "data": {
            "text/plain": [
              "<IPython.core.display.HTML object>"
            ],
            "text/html": [
              "\n",
              "<a target=\"_blank\" href=\"https://colab.research.google.com/github/facebookresearch/segment-anything/blob/main/notebooks/predictor_example.ipynb\">\n",
              "  <img src=\"https://colab.research.google.com/assets/colab-badge.svg\" alt=\"Open In Colab\"/>\n",
              "</a>\n"
            ]
          },
          "metadata": {}
        }
      ],
      "source": [
        "from IPython.display import display, HTML\n",
        "display(HTML(\n",
        "\"\"\"\n",
        "<a target=\"_blank\" href=\"https://colab.research.google.com/github/facebookresearch/segment-anything/blob/main/notebooks/predictor_example.ipynb\">\n",
        "  <img src=\"https://colab.research.google.com/assets/colab-badge.svg\" alt=\"Open In Colab\"/>\n",
        "</a>\n",
        "\"\"\"\n",
        "))"
      ]
    },
    {
      "cell_type": "code",
      "execution_count": 2,
      "id": "5ea65efc",
      "metadata": {
        "id": "5ea65efc"
      },
      "outputs": [],
      "source": [
        "using_colab = True"
      ]
    },
    {
      "cell_type": "code",
      "execution_count": null,
      "id": "91dd9a89",
      "metadata": {
        "id": "91dd9a89"
      },
      "outputs": [],
      "source": [
        "if using_colab:\n",
        "    import torch\n",
        "    import torchvision\n",
        "    print(\"PyTorch version:\", torch.__version__)\n",
        "    print(\"Torchvision version:\", torchvision.__version__)\n",
        "    print(\"CUDA is available:\", torch.cuda.is_available())\n",
        "    import sys\n",
        "    !{sys.executable} -m pip install opencv-python matplotlib\n",
        "    !{sys.executable} -m pip install 'git+https://github.com/facebookresearch/segment-anything.git'\n",
        "\n",
        "    !mkdir images\n",
        "    !wget -P images https://raw.githubusercontent.com/facebookresearch/segment-anything/main/notebooks/images/truck.jpg\n",
        "    !wget -P images https://raw.githubusercontent.com/facebookresearch/segment-anything/main/notebooks/images/groceries.jpg\n",
        "\n",
        "    !wget https://dl.fbaipublicfiles.com/segment_anything/sam_vit_h_4b8939.pth\n",
        "\n",
        "\n",
        "\n"
      ]
    },
    {
      "cell_type": "markdown",
      "id": "33681dd1",
      "metadata": {
        "id": "33681dd1"
      },
      "source": [
        "##<font color='Green'> **[** Import Libraries **]**\n",
        "</font>"
      ]
    },
    {
      "cell_type": "code",
      "execution_count": 4,
      "id": "69b28288",
      "metadata": {
        "colab": {
          "base_uri": "https://localhost:8080/"
        },
        "id": "69b28288",
        "outputId": "0e90161c-c57e-4072-fe1d-7f42dc49ec37"
      },
      "outputs": [
        {
          "output_type": "stream",
          "name": "stdout",
          "text": [
            "Requirement already satisfied: Pillow in /usr/local/lib/python3.10/dist-packages (9.4.0)\n"
          ]
        }
      ],
      "source": [
        "!pip install Pillow\n",
        "import numpy as np\n",
        "import torch\n",
        "import matplotlib.pyplot as plt\n",
        "import cv2"
      ]
    },
    {
      "cell_type": "markdown",
      "id": "m16i-rr1SnrR",
      "metadata": {
        "id": "m16i-rr1SnrR"
      },
      "source": [
        "##<font color='Green'>  **[** Extracting Points | Boxes | Masks **]**\n",
        "</font>"
      ]
    },
    {
      "cell_type": "code",
      "execution_count": 5,
      "id": "29bc90d5",
      "metadata": {
        "id": "29bc90d5"
      },
      "outputs": [],
      "source": [
        "def show_mask(mask, ax, random_color=False):\n",
        "    if random_color:\n",
        "        color = np.concatenate([np.random.random(3), np.array([0.6])], axis=0)\n",
        "    else:\n",
        "        color = np.array([30/255, 144/255, 255/255, 0.6])\n",
        "    h, w = mask.shape[-2:]\n",
        "    mask_image = mask.reshape(h, w, 1) * color.reshape(1, 1, -1)\n",
        "    ax.imshow(mask_image)\n",
        "\n",
        "def show_points(coords, labels, ax, marker_size=375):\n",
        "    pos_points = coords[labels==1]\n",
        "    neg_points = coords[labels==0]\n",
        "    ax.scatter(pos_points[:, 0], pos_points[:, 1], color='green', marker='*', s=marker_size, edgecolor='white', linewidth=1.25)\n",
        "    ax.scatter(neg_points[:, 0], neg_points[:, 1], color='red', marker='*', s=marker_size, edgecolor='white', linewidth=1.25)\n",
        "\n",
        "def show_box(box, ax):\n",
        "    x0, y0 = box[0], box[1]\n",
        "    w, h = box[2] - box[0], box[3] - box[1]\n",
        "    ax.add_patch(plt.Rectangle((x0, y0), w, h, edgecolor='green', facecolor=(0,0,0,0), lw=2))\n"
      ]
    },
    {
      "cell_type": "markdown",
      "id": "23842fb2",
      "metadata": {
        "id": "23842fb2"
      },
      "source": [
        "##<font color='Green'>  **[** Load Satellite Images **]**\n",
        "</font>"
      ]
    },
    {
      "cell_type": "markdown",
      "id": "Oo1SG1cv4pEc",
      "metadata": {
        "id": "Oo1SG1cv4pEc"
      },
      "source": [
        "<font color='orange'>  <<<<<<<<<<<<<< **UPDATE DRIVE LINK** >>>>>>>>>>>>\n",
        "\n",
        "<font color='orange'>  <<<<<<<<<<<<<< **UPDATE YEARS** >>>>>>>>>>>>"
      ]
    },
    {
      "cell_type": "code",
      "execution_count": null,
      "id": "oAEPE-hWvJsl",
      "metadata": {
        "id": "oAEPE-hWvJsl"
      },
      "outputs": [],
      "source": [
        "from PIL import Image\n",
        "import matplotlib.pyplot as plt\n",
        "import numpy as np\n",
        "\n",
        "# Open the first image file\n",
        "img1 = Image.open('/content/drive/My Drive/APPLY_Imagery/2009/5.png')\n",
        "\n",
        "# Open the second image file\n",
        "img2 = Image.open('/content/drive/My Drive/APPLY_Imagery/2024/5.png')\n",
        "\n",
        "# Convert the images to numpy arrays\n",
        "img_array1 = np.array(img1)\n",
        "img_array2 = np.array(img2)\n",
        "\n",
        "# Display the images side by side using matplotlib\n",
        "plt.figure(figsize=(22, 10))\n",
        "\n",
        "# Display the first image\n",
        "plt.subplot(1, 2, 1)\n",
        "plt.imshow(img_array1)\n",
        "plt.title('2009')\n",
        "plt.axis('on')\n",
        "\n",
        "# Display the second image\n",
        "plt.subplot(1, 2, 2)\n",
        "plt.imshow(img_array2)\n",
        "plt.title('2020')\n",
        "plt.axis('on')\n",
        "\n",
        "plt.show()\n",
        "\n"
      ]
    },
    {
      "cell_type": "markdown",
      "id": "1arUOcHbzBI3",
      "metadata": {
        "id": "1arUOcHbzBI3"
      },
      "source": [
        "##<font color='Green'>  **[** Visualize Change **]**\n",
        "</font>"
      ]
    },
    {
      "cell_type": "code",
      "execution_count": null,
      "id": "_9pUBMr5E5bg",
      "metadata": {
        "id": "_9pUBMr5E5bg"
      },
      "outputs": [],
      "source": [
        "%pip install -U leafmap\n",
        "import leafmap"
      ]
    },
    {
      "cell_type": "markdown",
      "id": "CBWiw6Nv-jjT",
      "metadata": {
        "id": "CBWiw6Nv-jjT"
      },
      "source": [
        "<font color='orange'>  <<<<<<<<<<<<<< **UPDATE LABELS** >>>>>>>>>>>>"
      ]
    },
    {
      "cell_type": "code",
      "execution_count": null,
      "id": "LrpeFInFE7w8",
      "metadata": {
        "id": "LrpeFInFE7w8"
      },
      "outputs": [],
      "source": [
        "leafmap.image_comparison(\n",
        "    img1,\n",
        "    img2,\n",
        "    label1=\"2009\",\n",
        "    label2=\"2023\",\n",
        "    starting_position=50,\n",
        "    out_html=\"image_comparison.html\",\n",
        ")"
      ]
    },
    {
      "cell_type": "markdown",
      "id": "otQEYAi2metQ",
      "metadata": {
        "id": "otQEYAi2metQ"
      },
      "source": [
        "#<font color='gold'> **A3: NEIGHBOURHOOD MAPPING**\n",
        "</font>"
      ]
    },
    {
      "cell_type": "markdown",
      "id": "98b228b8",
      "metadata": {
        "id": "98b228b8"
      },
      "source": [
        "#<font color='Green'>  **[ Segmenting Images ]**\n",
        "</font>"
      ]
    },
    {
      "cell_type": "markdown",
      "id": "c-_VsV503p4_",
      "metadata": {
        "id": "c-_VsV503p4_"
      },
      "source": [
        "###<font color='Green'>  **[ Activate SAM ]**\n",
        "</font>"
      ]
    },
    {
      "cell_type": "code",
      "execution_count": 9,
      "id": "7e28150b",
      "metadata": {
        "id": "7e28150b"
      },
      "outputs": [],
      "source": [
        "import sys\n",
        "sys.path.append(\"..\")\n",
        "from segment_anything import sam_model_registry, SamPredictor\n",
        "\n",
        "sam_checkpoint = \"sam_vit_h_4b8939.pth\"\n",
        "model_type = \"vit_h\"\n",
        "\n",
        "device = \"cuda\"\n",
        "\n",
        "sam = sam_model_registry[model_type](checkpoint=sam_checkpoint)\n",
        "sam.to(device='cpu')\n",
        "# sam.to(device=device)\n",
        "\n",
        "predictor = SamPredictor(sam)"
      ]
    },
    {
      "cell_type": "markdown",
      "id": "U-tvGUsldUJY",
      "metadata": {
        "id": "U-tvGUsldUJY"
      },
      "source": [
        "##<font color='Green'>  **[ SAM PREDICTOR : IMAGE_1 ]**\n",
        "</font>"
      ]
    },
    {
      "cell_type": "code",
      "execution_count": 10,
      "id": "d95d48dd",
      "metadata": {
        "id": "d95d48dd"
      },
      "outputs": [],
      "source": [
        "predictor.set_image(img_array1)"
      ]
    },
    {
      "cell_type": "code",
      "execution_count": 11,
      "id": "7wEq22bKdbxR",
      "metadata": {
        "id": "7wEq22bKdbxR"
      },
      "outputs": [],
      "source": [
        "import numpy as np\n",
        "import matplotlib.pyplot as plt\n",
        "\n",
        "def show_points(points, labels, ax):\n",
        "    for point, label in zip(points, labels):\n",
        "        ax.scatter(point[0], point[1], c='r' if label == 1 else 'b', label=f'Label {label}')\n",
        "    ax.legend()"
      ]
    },
    {
      "cell_type": "markdown",
      "id": "IwUo6dF6BAcW",
      "metadata": {
        "id": "IwUo6dF6BAcW"
      },
      "source": [
        "###<font color='Green'>  **[ Set point on image ]**\n",
        "</font>"
      ]
    },
    {
      "cell_type": "markdown",
      "id": "1b-fMCwABPsG",
      "metadata": {
        "id": "1b-fMCwABPsG"
      },
      "source": [
        "<font color='orange'>  <<<<<<<<<<<<<< **UPDATE POINT CORDINATES** >>>>>>>>>>>>"
      ]
    },
    {
      "cell_type": "code",
      "execution_count": 12,
      "id": "NvQWs0c6eMqZ",
      "metadata": {
        "id": "NvQWs0c6eMqZ"
      },
      "outputs": [],
      "source": [
        "input_point1 = np.array([[300, 150]])\n",
        "input_label1 = np.array([1])"
      ]
    },
    {
      "cell_type": "code",
      "execution_count": null,
      "id": "RVDdrsVheSZW",
      "metadata": {
        "id": "RVDdrsVheSZW"
      },
      "outputs": [],
      "source": [
        "plt.figure(figsize=(6,6))\n",
        "plt.imshow(img_array1)  # Assuming img_array is defined elsewhere in your code\n",
        "show_points(input_point1, input_label1, plt.gca())\n",
        "plt.axis('on')\n",
        "plt.show()"
      ]
    },
    {
      "cell_type": "markdown",
      "id": "2ibgF1oJaSm1",
      "metadata": {
        "id": "2ibgF1oJaSm1"
      },
      "source": [
        "###<font color='Green'>  **[ Mask Generation ]**\n",
        "</font>"
      ]
    },
    {
      "cell_type": "code",
      "execution_count": 14,
      "id": "amKus-OSfpxp",
      "metadata": {
        "id": "amKus-OSfpxp"
      },
      "outputs": [],
      "source": [
        "masks1, scores1, logits1 = predictor.predict(\n",
        "    point_coords=input_point1,\n",
        "    point_labels=input_label1,\n",
        "    multimask_output=True,\n",
        ")"
      ]
    },
    {
      "cell_type": "code",
      "execution_count": null,
      "id": "jHQ45JTI-wGk",
      "metadata": {
        "id": "jHQ45JTI-wGk"
      },
      "outputs": [],
      "source": [
        "for i in range(3):\n",
        "    m1 = masks1[i]\n",
        "    s1 = scores1[i]\n",
        "\n",
        "    plt.figure(figsize=(6,6))\n",
        "    plt.imshow(img_array1)\n",
        "    show_mask(m1, plt.gca())\n",
        "    show_points(input_point1, input_label1, plt.gca())\n",
        "    plt.title(f\"Mask {i+1}, Score: {s1:.2f}\", fontsize=18)\n",
        "    plt.axis('off')\n",
        "    plt.show()"
      ]
    },
    {
      "cell_type": "markdown",
      "id": "KRIKLsmNa3AQ",
      "metadata": {
        "id": "KRIKLsmNa3AQ"
      },
      "source": [
        "###<font color='Green'>  **[ K - Means Model ]**\n",
        "</font>"
      ]
    },
    {
      "cell_type": "code",
      "execution_count": null,
      "id": "q4NXqJNngeDU",
      "metadata": {
        "id": "q4NXqJNngeDU"
      },
      "outputs": [],
      "source": [
        "!pip install scikit-learn\n",
        "!pip install rasterio"
      ]
    },
    {
      "cell_type": "markdown",
      "id": "lT_Bnelea-1Z",
      "metadata": {
        "id": "lT_Bnelea-1Z"
      },
      "source": [
        "<font color='orange'>  <<<<<<<<<<<<<< **CHANGE SLIDER TO SPECIFY NUMBER OF CLUSTERS** >>>>>>>>>>>>"
      ]
    },
    {
      "cell_type": "code",
      "execution_count": null,
      "id": "rJ83VZXs1IeV",
      "metadata": {
        "id": "rJ83VZXs1IeV"
      },
      "outputs": [],
      "source": [
        "import matplotlib.pyplot as plt\n",
        "import rasterio\n",
        "\n",
        "from sklearn.cluster import KMeans\n",
        "\n",
        "# Reshape the image array to a 2D array of pixels\n",
        "pixels = img_array1.reshape(-1, img_array1.shape[-1])\n",
        "\n",
        "# Apply k-means clustering to the pixels\n",
        "n_clusters = 4  # You can adjust this parameter to change the number of clusters\n",
        "kmeans = KMeans(n_clusters=n_clusters, random_state=1).fit(pixels)\n",
        "\n",
        "# Get the labels assigned to each pixel by the clustering algorithm\n",
        "labels = kmeans.labels_\n",
        "\n",
        "# Reshape the labels back into the original image shape\n",
        "label_image1 = labels.reshape(img_array1.shape[:2])\n",
        "\n",
        "\n",
        "# Define colors for each cluster label\n",
        "cluster_colors = ['Black', 'Blue', 'Green', 'yellow']  # Add more colors if needed\n",
        "\n",
        "# Map labels to colors\n",
        "colored_image1 = plt.cm.colors.ListedColormap(cluster_colors)(label_image1)\n",
        "\n",
        "# Plot the resulting segmented image with specified colors\n",
        "plt.figure(figsize=(10, 10))\n",
        "plt.imshow(colored_image1)\n",
        "plt.axis('off')\n",
        "plt.show()\n"
      ]
    },
    {
      "cell_type": "markdown",
      "id": "u1Z8z4Eubw_o",
      "metadata": {
        "id": "u1Z8z4Eubw_o"
      },
      "source": [
        "###<font color='Green'>  **[ Save Image ]**\n",
        "</font>"
      ]
    },
    {
      "cell_type": "markdown",
      "id": "QA9SFFttb7dT",
      "metadata": {
        "id": "QA9SFFttb7dT"
      },
      "source": [
        "<font color='orange'>  <<<<<<<<<<<<<< **UPDATE DRIVE LINK** >>>>>>>>>>>>"
      ]
    },
    {
      "cell_type": "code",
      "execution_count": 21,
      "id": "CaPsO0klDu7-",
      "metadata": {
        "id": "CaPsO0klDu7-"
      },
      "outputs": [],
      "source": [
        "# Save the resulting segmented image\n",
        "output_path = '/content/drive/My Drive/SI/J2009.png'  # You can change the file extension and name as needed\n",
        "plt.imsave(output_path, colored_image1)"
      ]
    },
    {
      "cell_type": "markdown",
      "id": "7rmvJwnWcPiu",
      "metadata": {
        "id": "7rmvJwnWcPiu"
      },
      "source": [
        "###<font color='Green'>  **[ Save Geolocated file : Tiff ]**\n",
        "</font>"
      ]
    },
    {
      "cell_type": "code",
      "execution_count": 23,
      "id": "2Zm2jZJq16np",
      "metadata": {
        "id": "2Zm2jZJq16np"
      },
      "outputs": [],
      "source": [
        "import rasterio\n",
        "from rasterio.transform import from_bounds\n",
        "from rasterio.crs import CRS\n",
        "\n",
        "# Define the GeoTIFF file path and metadata\n",
        "output_path = '/content/drive/My Drive/SI/2009.tiff'  # Replace with your desired file path\n",
        "xmin, ymin, xmax, ymax = 72.7970806, 18.9731694, 72.8272222, 18.9930556\n",
        "\n",
        "width, height = label_image1.shape[1], label_image1.shape[0]\n",
        "transform = from_bounds(xmin, ymin, xmax, ymax, width, height)\n",
        "\n",
        "# Specify the CRS using EPSG code 4326 (WGS84)\n",
        "crs = CRS.from_epsg(4326)\n",
        "\n",
        "# Write the label image as a GeoTIFF with specified CRS\n",
        "with rasterio.open(output_path, 'w', driver='GTiff', dtype=rasterio.uint8, count=1,\n",
        "                   width=width, height=height, transform=transform, crs=crs) as dst:\n",
        "    dst.write(label_image1.astype(rasterio.uint8), 1)\n"
      ]
    },
    {
      "cell_type": "markdown",
      "id": "-yRgtE9-ap4C",
      "metadata": {
        "id": "-yRgtE9-ap4C"
      },
      "source": [
        "##<font color='Green'>  **[ SAM PREDICTOR : IMAGE_2 ]**\n",
        "</font>"
      ]
    },
    {
      "cell_type": "code",
      "execution_count": 24,
      "id": "fowC8--vXVCY",
      "metadata": {
        "id": "fowC8--vXVCY"
      },
      "outputs": [],
      "source": [
        "predictor.set_image(img_array2)"
      ]
    },
    {
      "cell_type": "markdown",
      "id": "_PrN78QdgFZZ",
      "metadata": {
        "id": "_PrN78QdgFZZ"
      },
      "source": [
        "###<font color='Green'>  **[ Set point on image ]**\n",
        "</font>"
      ]
    },
    {
      "cell_type": "markdown",
      "id": "FZ5Who0UgLWp",
      "metadata": {
        "id": "FZ5Who0UgLWp"
      },
      "source": [
        "<font color='orange'>  <<<<<<<<<<<<<< **UPDATE POINT CORDINATES** >>>>>>>>>>>>"
      ]
    },
    {
      "cell_type": "code",
      "execution_count": 25,
      "id": "y1SM5UPTXVAa",
      "metadata": {
        "id": "y1SM5UPTXVAa"
      },
      "outputs": [],
      "source": [
        "input_point2 = np.array([[300, 150]])\n",
        "input_label2 = np.array([2])"
      ]
    },
    {
      "cell_type": "code",
      "execution_count": null,
      "id": "jnkGBhvgXU-F",
      "metadata": {
        "id": "jnkGBhvgXU-F"
      },
      "outputs": [],
      "source": [
        "plt.figure(figsize=(6,6))\n",
        "plt.imshow(img_array2)  # Assuming img_array is defined elsewhere in your code\n",
        "show_points(input_point2, input_label2, plt.gca())\n",
        "plt.axis('on')\n",
        "plt.show()"
      ]
    },
    {
      "cell_type": "markdown",
      "id": "G4NspeZrgRIX",
      "metadata": {
        "id": "G4NspeZrgRIX"
      },
      "source": [
        "###<font color='Green'>  **[ Mask Generation ]**\n",
        "</font>"
      ]
    },
    {
      "cell_type": "code",
      "execution_count": 27,
      "id": "61IPkOa5XU7-",
      "metadata": {
        "id": "61IPkOa5XU7-"
      },
      "outputs": [],
      "source": [
        "masks2, scores2, logits2 = predictor.predict(\n",
        "    point_coords=input_point2,\n",
        "    point_labels=input_label2,\n",
        "    multimask_output=True,\n",
        ")"
      ]
    },
    {
      "cell_type": "code",
      "execution_count": null,
      "id": "UGz-H2DrXU2U",
      "metadata": {
        "id": "UGz-H2DrXU2U"
      },
      "outputs": [],
      "source": [
        "for f in range(3):\n",
        "    m2 = masks2[f]\n",
        "    s2 = scores2[f]\n",
        "\n",
        "    plt.figure(figsize=(6,6))\n",
        "    plt.imshow(img_array2)\n",
        "    show_mask(m2, plt.gca())\n",
        "    show_points(input_point2, input_label2, plt.gca())\n",
        "    plt.title(f\"Mask {f+1}, Score: {s2:.2f}\", fontsize=18)\n",
        "    plt.axis('off')\n",
        "    plt.show()"
      ]
    },
    {
      "cell_type": "markdown",
      "id": "GOl_SID1gbOb",
      "metadata": {
        "id": "GOl_SID1gbOb"
      },
      "source": [
        "###<font color='Green'>  **[ K - Means Model ]**\n",
        "</font>"
      ]
    },
    {
      "cell_type": "markdown",
      "id": "W1IGYrS9ggEP",
      "metadata": {
        "id": "W1IGYrS9ggEP"
      },
      "source": [
        "<font color='orange'>  <<<<<<<<<<<<<< **CHANGE SLIDER TO SPECIFY NUMBER OF CLUSTERS** >>>>>>>>>>>>"
      ]
    },
    {
      "cell_type": "code",
      "execution_count": null,
      "id": "j8_1oqHpXUsX",
      "metadata": {
        "id": "j8_1oqHpXUsX"
      },
      "outputs": [],
      "source": [
        "!pip install scikit-learn\n",
        "!pip install rasterio\n",
        "import matplotlib.pyplot as plt\n",
        "import rasterio\n",
        "\n",
        "from sklearn.cluster import KMeans\n",
        "\n",
        "# Reshape the image array to a 2D array of pixels\n",
        "pixels = img_array2.reshape(-1, img_array2.shape[-1])\n",
        "\n",
        "# Apply k-means clustering to the pixels\n",
        "n_clusters = 4  # You can adjust this parameter to change the number of clusters\n",
        "kmeans = KMeans(n_clusters=n_clusters, random_state=1).fit(pixels)\n",
        "\n",
        "# Get the labels assigned to each pixel by the clustering algorithm\n",
        "labels = kmeans.labels_\n",
        "\n",
        "# Reshape the labels back into the original image shape\n",
        "label_image2 = labels.reshape(img_array2.shape[:2])\n",
        "\n",
        "\n",
        "# Define colors for each cluster label\n",
        "cluster_colors = ['Black', 'Blue', 'Green', 'yellow']  # Add more colors if needed\n",
        "\n",
        "# Map labels to colors\n",
        "colored_image2 = plt.cm.colors.ListedColormap(cluster_colors)(label_image2)\n",
        "\n",
        "# Plot the resulting segmented image with specified colors\n",
        "plt.figure(figsize=(10, 10))\n",
        "plt.imshow(colored_image2)\n",
        "plt.axis('off')\n",
        "plt.show()"
      ]
    },
    {
      "cell_type": "markdown",
      "id": "5-6lSawzg8H-",
      "metadata": {
        "id": "5-6lSawzg8H-"
      },
      "source": [
        "###<font color='Green'>  **[ Save Image ]**\n",
        "</font>"
      ]
    },
    {
      "cell_type": "markdown",
      "id": "m89vmvRBhCPJ",
      "metadata": {
        "id": "m89vmvRBhCPJ"
      },
      "source": [
        "<font color='orange'>  <<<<<<<<<<<<<< **UPDATE DRIVE LINK** >>>>>>>>>>>>"
      ]
    },
    {
      "cell_type": "code",
      "execution_count": 30,
      "id": "4c5xOQ4FDgqo",
      "metadata": {
        "id": "4c5xOQ4FDgqo"
      },
      "outputs": [],
      "source": [
        "# Save the resulting segmented image\n",
        "output_path = '/content/drive/My Drive/SI/J2023.png'  # You can change the file extension and name as needed\n",
        "plt.imsave(output_path, colored_image2)"
      ]
    },
    {
      "cell_type": "markdown",
      "id": "SyB99lk2hHnx",
      "metadata": {
        "id": "SyB99lk2hHnx"
      },
      "source": [
        "###<font color='Green'>  **[ Save Geolocated file : Tiff ]**\n",
        "</font>"
      ]
    },
    {
      "cell_type": "code",
      "execution_count": 31,
      "id": "4aEHPC4eX-V1",
      "metadata": {
        "id": "4aEHPC4eX-V1"
      },
      "outputs": [],
      "source": [
        "import rasterio\n",
        "from rasterio.transform import from_bounds\n",
        "from rasterio.crs import CRS\n",
        "\n",
        "# Define the GeoTIFF file path and metadata\n",
        "output_path = '/content/drive/My Drive/SI/2023.tiff'  # Replace with your desired file path\n",
        "xmin, ymin, xmax, ymax = 72.7970806, 18.9731694, 72.8272222, 18.9930556\n",
        "\n",
        "\n",
        "\n",
        "width, height = label_image2.shape[1], label_image2.shape[0]\n",
        "transform = from_bounds(xmin, ymin, xmax, ymax, width, height)\n",
        "\n",
        "# Specify the CRS using EPSG code 4326 (WGS84)\n",
        "crs = CRS.from_epsg(4326)\n",
        "\n",
        "# Write the label image as a GeoTIFF with specified CRS\n",
        "with rasterio.open(output_path, 'w', driver='GTiff', dtype=rasterio.uint8, count=1,\n",
        "                   width=width, height=height, transform=transform, crs=crs) as dst:\n",
        "    dst.write(label_image2.astype(rasterio.uint8), 1)"
      ]
    },
    {
      "cell_type": "markdown",
      "id": "z0SqLb4bhOYR",
      "metadata": {
        "id": "z0SqLb4bhOYR"
      },
      "source": [
        "##<font color='Green'>  **[ Compare Segmentation ]**\n",
        "</font>"
      ]
    },
    {
      "cell_type": "code",
      "execution_count": null,
      "id": "pN2j_-76A1sQ",
      "metadata": {
        "id": "pN2j_-76A1sQ"
      },
      "outputs": [],
      "source": [
        "%pip install -U leafmap\n",
        "import leafmap"
      ]
    },
    {
      "cell_type": "markdown",
      "id": "1TSRrAVjhhZ9",
      "metadata": {
        "id": "1TSRrAVjhhZ9"
      },
      "source": [
        "<font color='orange'>  <<<<<<<<<<<<<< **UPDATE DRIVE LINK** >>>>>>>>>>>>"
      ]
    },
    {
      "cell_type": "code",
      "execution_count": null,
      "id": "rCkCrQN4D_7F",
      "metadata": {
        "id": "rCkCrQN4D_7F"
      },
      "outputs": [],
      "source": [
        "# Assuming label_image1 and label_image2 are the paths to your image files\n",
        "img2023 = \"/content/drive/My Drive/SI/J2023.png\"\n",
        "img2009 = \"/content/drive/My Drive/SI/J2009.png\"\n",
        "\n",
        "leafmap.image_comparison(\n",
        "    img2023,\n",
        "    img2009,\n",
        "    label1=\"Satellite Image\",\n",
        "    label2=\"Image Segmentation\",\n",
        "    starting_position=50,\n",
        "    out_html=\"image_comparison.html\",\n",
        ")\n"
      ]
    }
  ],
  "metadata": {
    "accelerator": "GPU",
    "colab": {
      "gpuType": "T4",
      "provenance": []
    },
    "kernelspec": {
      "display_name": "Python 3",
      "name": "python3"
    },
    "language_info": {
      "codemirror_mode": {
        "name": "ipython",
        "version": 3
      },
      "file_extension": ".py",
      "mimetype": "text/x-python",
      "name": "python",
      "nbconvert_exporter": "python",
      "pygments_lexer": "ipython3",
      "version": "3.8.0"
    }
  },
  "nbformat": 4,
  "nbformat_minor": 5
}